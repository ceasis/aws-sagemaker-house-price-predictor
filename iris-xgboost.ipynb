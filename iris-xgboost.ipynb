{
 "cells": [
  {
   "cell_type": "markdown",
   "id": "328b44d3",
   "metadata": {},
   "source": [
    "# UPDATE DEPENDENCIES"
   ]
  },
  {
   "cell_type": "code",
   "execution_count": 197,
   "id": "4cffc46a",
   "metadata": {},
   "outputs": [],
   "source": [
    "# IRIS DATA SET\n",
    "# https://archive.ics.uci.edu/dataset/53/iris\n",
    "\n",
    "# XG BOOST DOCS\n",
    "# https://docs.aws.amazon.com/sagemaker/latest/dg/xgboost_hyperparameters.html"
   ]
  },
  {
   "cell_type": "code",
   "execution_count": 198,
   "id": "d2ea4835",
   "metadata": {},
   "outputs": [
    {
     "name": "stdout",
     "output_type": "stream",
     "text": [
      "Requirement already satisfied: xgboost in /home/ec2-user/anaconda3/envs/python3/lib/python3.10/site-packages (2.1.1)\n",
      "Requirement already satisfied: numpy in /home/ec2-user/anaconda3/envs/python3/lib/python3.10/site-packages (from xgboost) (2.1.2)\n",
      "Requirement already satisfied: scipy in /home/ec2-user/anaconda3/envs/python3/lib/python3.10/site-packages (from xgboost) (1.14.1)\n",
      "Requirement already satisfied: scipy in /home/ec2-user/anaconda3/envs/python3/lib/python3.10/site-packages (1.14.1)\n",
      "Requirement already satisfied: numpy<2.3,>=1.23.5 in /home/ec2-user/anaconda3/envs/python3/lib/python3.10/site-packages (from scipy) (2.1.2)\n",
      "Requirement already satisfied: scikit-learn in /home/ec2-user/anaconda3/envs/python3/lib/python3.10/site-packages (1.5.2)\n",
      "Requirement already satisfied: numpy>=1.19.5 in /home/ec2-user/anaconda3/envs/python3/lib/python3.10/site-packages (from scikit-learn) (2.1.2)\n",
      "Requirement already satisfied: scipy>=1.6.0 in /home/ec2-user/anaconda3/envs/python3/lib/python3.10/site-packages (from scikit-learn) (1.14.1)\n",
      "Requirement already satisfied: joblib>=1.2.0 in /home/ec2-user/anaconda3/envs/python3/lib/python3.10/site-packages (from scikit-learn) (1.4.2)\n",
      "Requirement already satisfied: threadpoolctl>=3.1.0 in /home/ec2-user/anaconda3/envs/python3/lib/python3.10/site-packages (from scikit-learn) (3.5.0)\n",
      "Requirement already satisfied: matplotlib in /home/ec2-user/anaconda3/envs/python3/lib/python3.10/site-packages (3.9.2)\n",
      "Requirement already satisfied: contourpy>=1.0.1 in /home/ec2-user/anaconda3/envs/python3/lib/python3.10/site-packages (from matplotlib) (1.2.1)\n",
      "Requirement already satisfied: cycler>=0.10 in /home/ec2-user/anaconda3/envs/python3/lib/python3.10/site-packages (from matplotlib) (0.12.1)\n",
      "Requirement already satisfied: fonttools>=4.22.0 in /home/ec2-user/anaconda3/envs/python3/lib/python3.10/site-packages (from matplotlib) (4.53.1)\n",
      "Requirement already satisfied: kiwisolver>=1.3.1 in /home/ec2-user/anaconda3/envs/python3/lib/python3.10/site-packages (from matplotlib) (1.4.5)\n",
      "Requirement already satisfied: numpy>=1.23 in /home/ec2-user/anaconda3/envs/python3/lib/python3.10/site-packages (from matplotlib) (2.1.2)\n",
      "Requirement already satisfied: packaging>=20.0 in /home/ec2-user/anaconda3/envs/python3/lib/python3.10/site-packages (from matplotlib) (21.3)\n",
      "Requirement already satisfied: pillow>=8 in /home/ec2-user/anaconda3/envs/python3/lib/python3.10/site-packages (from matplotlib) (10.4.0)\n",
      "Requirement already satisfied: pyparsing>=2.3.1 in /home/ec2-user/anaconda3/envs/python3/lib/python3.10/site-packages (from matplotlib) (3.1.2)\n",
      "Requirement already satisfied: python-dateutil>=2.7 in /home/ec2-user/anaconda3/envs/python3/lib/python3.10/site-packages (from matplotlib) (2.9.0)\n",
      "Requirement already satisfied: six>=1.5 in /home/ec2-user/anaconda3/envs/python3/lib/python3.10/site-packages (from python-dateutil>=2.7->matplotlib) (1.16.0)\n"
     ]
    }
   ],
   "source": [
    "!pip install --upgrade xgboost\n",
    "!pip install --upgrade scipy\n",
    "!pip install --upgrade scikit-learn\n",
    "!pip install --upgrade matplotlib"
   ]
  },
  {
   "cell_type": "markdown",
   "id": "80c7f752",
   "metadata": {},
   "source": [
    "# PREPARE DATA"
   ]
  },
  {
   "cell_type": "code",
   "execution_count": 199,
   "id": "1d86d4d8",
   "metadata": {},
   "outputs": [
    {
     "data": {
      "text/plain": [
       "('data.zip', <http.client.HTTPMessage at 0x7f4dfbfe0430>)"
      ]
     },
     "execution_count": 199,
     "metadata": {},
     "output_type": "execute_result"
    }
   ],
   "source": [
    "import urllib.request\n",
    "urllib.request.urlretrieve('https://archive.ics.uci.edu/static/public/53/iris.zip','data.zip')\n"
   ]
  },
  {
   "cell_type": "code",
   "execution_count": 200,
   "id": "59d03642",
   "metadata": {
    "scrolled": false
   },
   "outputs": [
    {
     "name": "stdout",
     "output_type": "stream",
     "text": [
      "Archive:  data.zip\r\n",
      "  inflating: iris-data/Index         \r\n",
      "  inflating: iris-data/bezdekIris.data  \r\n",
      "  inflating: iris-data/iris.data     \r\n",
      "  inflating: iris-data/iris.names    \r\n"
     ]
    }
   ],
   "source": [
    "!unzip -o data.zip -d iris-data/"
   ]
  },
  {
   "cell_type": "code",
   "execution_count": 201,
   "id": "52cc0bba",
   "metadata": {},
   "outputs": [
    {
     "name": "stdout",
     "output_type": "stream",
     "text": [
      "     4    0    1    2    3\n",
      "0    0  5.1  3.5  1.4  0.2\n",
      "1    0  4.9  3.0  1.4  0.2\n",
      "2    0  4.7  3.2  1.3  0.2\n",
      "3    0  4.6  3.1  1.5  0.2\n",
      "4    0  5.0  3.6  1.4  0.2\n",
      "..  ..  ...  ...  ...  ...\n",
      "145  1  6.7  3.0  5.2  2.3\n",
      "146  1  6.3  2.5  5.0  1.9\n",
      "147  1  6.5  3.0  5.2  2.0\n",
      "148  1  6.2  3.4  5.4  2.3\n",
      "149  1  5.9  3.0  5.1  1.8\n",
      "\n",
      "[150 rows x 5 columns]\n",
      "FEATURES Only\n",
      "       0    1    2    3\n",
      "0    5.1  3.5  1.4  0.2\n",
      "1    4.9  3.0  1.4  0.2\n",
      "2    4.7  3.2  1.3  0.2\n",
      "3    4.6  3.1  1.5  0.2\n",
      "4    5.0  3.6  1.4  0.2\n",
      "..   ...  ...  ...  ...\n",
      "145  6.7  3.0  5.2  2.3\n",
      "146  6.3  2.5  5.0  1.9\n",
      "147  6.5  3.0  5.2  2.0\n",
      "148  6.2  3.4  5.4  2.3\n",
      "149  5.9  3.0  5.1  1.8\n",
      "\n",
      "[150 rows x 4 columns]\n",
      "LABELS Only\n",
      "0      0\n",
      "1      0\n",
      "2      0\n",
      "3      0\n",
      "4      0\n",
      "      ..\n",
      "145    1\n",
      "146    1\n",
      "147    1\n",
      "148    1\n",
      "149    1\n",
      "Name: 4, Length: 150, dtype: int64\n",
      "     4    0    1    2    3\n",
      "81   2  5.5  2.4  3.7  1.0\n",
      "133  1  6.3  2.8  5.1  1.5\n",
      "137  1  6.4  3.1  5.5  1.8\n",
      "75   2  6.6  3.0  4.4  1.4\n",
      "109  1  7.2  3.6  6.1  2.5\n",
      "..  ..  ...  ...  ...  ...\n",
      "71   2  6.1  2.8  4.0  1.3\n",
      "106  1  4.9  2.5  4.5  1.7\n",
      "14   0  5.8  4.0  1.2  0.2\n",
      "92   2  5.8  2.6  4.0  1.2\n",
      "102  1  7.1  3.0  5.9  2.1\n",
      "\n",
      "[105 rows x 5 columns]\n",
      "     4    0    1    2    3\n",
      "73   2  6.1  2.8  4.7  1.2\n",
      "18   0  5.7  3.8  1.7  0.3\n",
      "118  1  7.7  2.6  6.9  2.3\n",
      "78   2  6.0  2.9  4.5  1.5\n",
      "76   2  6.8  2.8  4.8  1.4\n",
      "31   0  5.4  3.4  1.5  0.4\n",
      "64   2  5.6  2.9  3.6  1.3\n",
      "141  1  6.9  3.1  5.1  2.3\n",
      "68   2  6.2  2.2  4.5  1.5\n",
      "82   2  5.8  2.7  3.9  1.2\n",
      "110  1  6.5  3.2  5.1  2.0\n",
      "12   0  4.8  3.0  1.4  0.1\n",
      "36   0  5.5  3.5  1.3  0.2\n",
      "9    0  4.9  3.1  1.5  0.1\n",
      "19   0  5.1  3.8  1.5  0.3\n",
      "56   2  6.3  3.3  4.7  1.6\n",
      "104  1  6.5  3.0  5.8  2.2\n",
      "69   2  5.6  2.5  3.9  1.1\n",
      "55   2  5.7  2.8  4.5  1.3\n",
      "132  1  6.4  2.8  5.6  2.2\n",
      "29   0  4.7  3.2  1.6  0.2\n",
      "127  1  6.1  3.0  4.9  1.8\n",
      "26   0  5.0  3.4  1.6  0.4\n",
      "128  1  6.4  2.8  5.6  2.1\n",
      "131  1  7.9  3.8  6.4  2.0\n",
      "145  1  6.7  3.0  5.2  2.3\n",
      "108  1  6.7  2.5  5.8  1.8\n",
      "143  1  6.8  3.2  5.9  2.3\n",
      "45   0  4.8  3.0  1.4  0.3\n",
      "30   0  4.8  3.1  1.6  0.2\n",
      "22   0  4.6  3.6  1.0  0.2\n",
      "15   0  5.7  4.4  1.5  0.4\n",
      "65   2  6.7  3.1  4.4  1.4\n",
      "11   0  4.8  3.4  1.6  0.2\n",
      "42   0  4.4  3.2  1.3  0.2\n",
      "146  1  6.3  2.5  5.0  1.9\n",
      "51   2  6.4  3.2  4.5  1.5\n",
      "27   0  5.2  3.5  1.5  0.2\n",
      "4    0  5.0  3.6  1.4  0.2\n",
      "32   0  5.2  4.1  1.5  0.1\n",
      "142  1  5.8  2.7  5.1  1.9\n",
      "85   2  6.0  3.4  4.5  1.6\n",
      "86   2  6.7  3.1  4.7  1.5\n",
      "16   0  5.4  3.9  1.3  0.4\n",
      "10   0  5.4  3.7  1.5  0.2\n"
     ]
    },
    {
     "name": "stderr",
     "output_type": "stream",
     "text": [
      "/tmp/ipykernel_8929/265310516.py:10: FutureWarning: Downcasting behavior in `replace` is deprecated and will be removed in a future version. To retain the old behavior, explicitly call `result.infer_objects(copy=False)`. To opt-in to the future behavior, set `pd.set_option('future.no_silent_downcasting', True)`\n",
      "  data[4] = data[4].replace('Iris-versicolor',2)\n"
     ]
    }
   ],
   "source": [
    "# read data\n",
    "import pandas as pd\n",
    "from sklearn.model_selection import train_test_split\n",
    "\n",
    "data = pd.read_csv('iris-data/iris.data', header=None)\n",
    "\n",
    "# convert to numerical values\n",
    "data[4] = data[4].replace('Iris-setosa',0)\n",
    "data[4] = data[4].replace('Iris-virginica',1)\n",
    "data[4] = data[4].replace('Iris-versicolor',2)\n",
    "data = data[[4,0,1,2,3]]\n",
    "print(data)\n",
    "\n",
    "# Split the dataset into features and labels\n",
    "X = data.drop(4, axis=1)\n",
    "y = data[4]\n",
    "\n",
    "print('FEATURES Only')\n",
    "print(X)\n",
    "print('LABELS Only')\n",
    "print(y)\n",
    "\n",
    "# Split into train and test sets\n",
    "X_train, X_test, y_train, y_test = train_test_split(X, y, test_size=0.3, random_state=42)\n",
    "\n",
    "# Save training data to CSV format for SageMaker input\n",
    "train_data = pd.concat([y_train,X_train], axis=1)\n",
    "print(train_data)\n",
    "train_data.to_csv('iris-data/train-data.csv', index=False, header=False)\n",
    "\n",
    "valid_data = pd.concat([y_test,X_test], axis=1)\n",
    "print(valid_data)\n",
    "valid_data.to_csv('iris-data/valid-data.csv', header=False, index=False)\n"
   ]
  },
  {
   "cell_type": "markdown",
   "id": "72a9e54c",
   "metadata": {},
   "source": [
    "# MOVE DATA TO S3 BUCKET"
   ]
  },
  {
   "cell_type": "code",
   "execution_count": 202,
   "id": "ba8b1aea",
   "metadata": {},
   "outputs": [
    {
     "name": "stderr",
     "output_type": "stream",
     "text": [
      "INFO:botocore.credentials:Found credentials from IAM Role: BaseNotebookInstanceEc2InstanceRole\n",
      "INFO:botocore.credentials:Found credentials from IAM Role: BaseNotebookInstanceEc2InstanceRole\n"
     ]
    }
   ],
   "source": [
    "import boto3\n",
    "bucket_name = 'sagemaker-iris-nb'\n",
    "\n",
    "key = 'data/train-data.csv'\n",
    "url = 's3://{}/{}'.format(bucket_name, key)\n",
    "boto3.Session().resource('s3').Bucket(bucket_name).Object(key).upload_file('iris-data/train-data.csv')\n",
    "\n",
    "\n",
    "key = 'data/valid-data.csv'\n",
    "url = 's3://{}/{}'.format(bucket_name, key)\n",
    "boto3.Session().resource('s3').Bucket(bucket_name).Object(key).upload_file('iris-data/valid-data.csv')\n",
    "\n"
   ]
  },
  {
   "cell_type": "code",
   "execution_count": 203,
   "id": "4b33b8c0",
   "metadata": {},
   "outputs": [
    {
     "name": "stderr",
     "output_type": "stream",
     "text": [
      "INFO:matplotlib.category:Using categorical units to plot a list of strings that are all parsable as floats or dates. If these strings should be plotted as numbers, cast to the appropriate data type before plotting.\n",
      "INFO:matplotlib.category:Using categorical units to plot a list of strings that are all parsable as floats or dates. If these strings should be plotted as numbers, cast to the appropriate data type before plotting.\n"
     ]
    },
    {
     "data": {
      "image/png": "[encoded data removed]",
      "text/plain": [
       "<Figure size 800x600 with 1 Axes>"
      ]
     },
     "metadata": {},
     "output_type": "display_data"
    },
    {
     "name": "stderr",
     "output_type": "stream",
     "text": [
      "INFO:matplotlib.category:Using categorical units to plot a list of strings that are all parsable as floats or dates. If these strings should be plotted as numbers, cast to the appropriate data type before plotting.\n",
      "INFO:matplotlib.category:Using categorical units to plot a list of strings that are all parsable as floats or dates. If these strings should be plotted as numbers, cast to the appropriate data type before plotting.\n"
     ]
    },
    {
     "data": {
      "image/png": "[encoded data removed]",
      "text/plain": [
       "<Figure size 800x600 with 1 Axes>"
      ]
     },
     "metadata": {},
     "output_type": "display_data"
    }
   ],
   "source": [
    "import seaborn as sns\n",
    "import matplotlib.pyplot as plt\n",
    "\n",
    "train_data = 'iris-data/train-data.csv'\n",
    "valid_data = 'iris-data/valid-data.csv'\n",
    "\n",
    "data = pd.read_csv(train_data)\n",
    "data.columns = ['species', 'sepal_length', 'sepal_width', 'petal_length', 'petal_width']\n",
    "plt.figure(figsize=(8, 6))\n",
    "sns.countplot(data=iris_df, x='species')\n",
    "plt.title('Training DATA per Species')\n",
    "plt.xlabel('Species')\n",
    "plt.ylabel('Count')\n",
    "plt.show()\n",
    "\n",
    "data = pd.read_csv(valid_data)\n",
    "data.columns = ['species', 'sepal_length', 'sepal_width', 'petal_length', 'petal_width']\n",
    "plt.figure(figsize=(8, 6))\n",
    "sns.countplot(data=iris_df, x='species')\n",
    "plt.title('Validation DATA per Species')\n",
    "plt.xlabel('Species')\n",
    "plt.ylabel('Count')\n",
    "plt.show()\n",
    "\n"
   ]
  },
  {
   "cell_type": "markdown",
   "id": "641b3561",
   "metadata": {},
   "source": [
    "# CREATE MODEL"
   ]
  },
  {
   "cell_type": "code",
   "execution_count": 204,
   "id": "93fdc8af",
   "metadata": {},
   "outputs": [
    {
     "name": "stderr",
     "output_type": "stream",
     "text": [
      "WARNING:sagemaker.deprecations:The method get_image_uri has been renamed in sagemaker>=2.\n",
      "See: https://sagemaker.readthedocs.io/en/stable/v2.html for details.\n",
      "INFO:sagemaker.image_uris:Ignoring unnecessary instance type: None.\n",
      "WARNING:sagemaker.deprecations:train_instance_count has been renamed in sagemaker>=2.\n",
      "See: https://sagemaker.readthedocs.io/en/stable/v2.html for details.\n",
      "WARNING:sagemaker.deprecations:train_instance_type has been renamed in sagemaker>=2.\n",
      "See: https://sagemaker.readthedocs.io/en/stable/v2.html for details.\n",
      "WARNING:sagemaker.deprecations:train_volume_size has been renamed in sagemaker>=2.\n",
      "See: https://sagemaker.readthedocs.io/en/stable/v2.html for details.\n"
     ]
    }
   ],
   "source": [
    "import sagemaker\n",
    "from sagemaker.amazon.amazon_estimator import get_image_uri\n",
    "from sagemaker import get_execution_role\n",
    "\n",
    "s3_output_location = 's3://{}/{}'.format(bucket_name,'model/xgb_model')\n",
    "\n",
    "xgb_model = sagemaker.estimator.Estimator(\n",
    "    get_image_uri(boto3.Session().region_name,'xgboost'),\n",
    "    get_execution_role(),\n",
    "    train_instance_count = 1,\n",
    "    train_instance_type = 'ml.m4.xlarge',\n",
    "    train_volume_size = 5,\n",
    "    output_path = s3_output_location\n",
    ")\n",
    "\n",
    "xgb_model.set_hyperparameters(\n",
    "    max_depth = 5,\n",
    "    eta=0.2,\n",
    "    gamma=4,\n",
    "    min_child_weight=6,\n",
    "    silent = 0,\n",
    "    objective='multi:softmax',\n",
    "    num_class=3,\n",
    "    num_round=2\n",
    ")\n",
    "\n"
   ]
  },
  {
   "cell_type": "markdown",
   "id": "0d9091d1",
   "metadata": {},
   "source": [
    "# TRAIN MODEL"
   ]
  },
  {
   "cell_type": "code",
   "execution_count": 205,
   "id": "eda708c1",
   "metadata": {},
   "outputs": [
    {
     "name": "stderr",
     "output_type": "stream",
     "text": [
      "WARNING:sagemaker.deprecations:The class sagemaker.session.s3_input has been renamed in sagemaker>=2.\n",
      "See: https://sagemaker.readthedocs.io/en/stable/v2.html for details.\n",
      "INFO:sagemaker:Creating training-job with name: xgboost-2024-10-20-15-42-30-508\n"
     ]
    },
    {
     "name": "stdout",
     "output_type": "stream",
     "text": [
      "2024-10-20 15:42:30 Starting - Starting the training job...\n",
      "2024-10-20 15:43:04 Starting - Preparing the instances for training......\n",
      "2024-10-20 15:43:54 Downloading - Downloading input data...\n",
      "2024-10-20 15:44:19 Downloading - Downloading the training image......\n",
      "2024-10-20 15:45:25 Training - Training image download completed. Training in progress..\u001b[34mArguments: train\u001b[0m\n",
      "\u001b[34m[2024-10-20:15:45:35:INFO] Running standalone xgboost training.\u001b[0m\n",
      "\u001b[34m[2024-10-20:15:45:35:INFO] Path /opt/ml/input/data/validation does not exist!\u001b[0m\n",
      "\u001b[34m[2024-10-20:15:45:35:INFO] File size need to be processed in the node: 0.0mb. Available memory size in the node: 8459.29mb\u001b[0m\n",
      "\u001b[34m[2024-10-20:15:45:35:INFO] Determined delimiter of CSV input is ','\u001b[0m\n",
      "\u001b[34m[15:45:35] S3DistributionType set as FullyReplicated\u001b[0m\n",
      "\u001b[34m[15:45:35] 105x4 matrix with 420 entries loaded from /opt/ml/input/data/train?format=csv&label_column=0&delimiter=,\u001b[0m\n",
      "\u001b[34m[15:45:35] src/tree/updater_prune.cc:74: tree pruning end, 1 roots, 2 extra nodes, 0 pruned nodes, max_depth=1\u001b[0m\n",
      "\u001b[34m[15:45:35] src/tree/updater_prune.cc:74: tree pruning end, 1 roots, 2 extra nodes, 2 pruned nodes, max_depth=1\u001b[0m\n",
      "\u001b[34m[15:45:35] src/tree/updater_prune.cc:74: tree pruning end, 1 roots, 4 extra nodes, 2 pruned nodes, max_depth=2\u001b[0m\n",
      "\u001b[34m[0]#011train-merror:0.057143\u001b[0m\n",
      "\u001b[34m[15:45:35] src/tree/updater_prune.cc:74: tree pruning end, 1 roots, 2 extra nodes, 0 pruned nodes, max_depth=1\u001b[0m\n",
      "\u001b[34m[15:45:35] src/tree/updater_prune.cc:74: tree pruning end, 1 roots, 2 extra nodes, 2 pruned nodes, max_depth=1\u001b[0m\n",
      "\u001b[34m[15:45:35] src/tree/updater_prune.cc:74: tree pruning end, 1 roots, 4 extra nodes, 2 pruned nodes, max_depth=2\u001b[0m\n",
      "\u001b[34m[1]#011train-merror:0.057143\u001b[0m\n",
      "\n",
      "2024-10-20 15:45:54 Uploading - Uploading generated training model\n",
      "2024-10-20 15:45:54 Completed - Training job completed\n",
      "Training seconds: 119\n",
      "Billable seconds: 119\n"
     ]
    }
   ],
   "source": [
    "train_data = 's3://{}/{}'.format(bucket_name,'data/train')\n",
    "#valid_data = 's3://{}/{}'.format(bucket_name,'data/valid')\n",
    "\n",
    "train_channel = sagemaker.session.s3_input(train_data, content_type='text/csv')\n",
    "#valid_channel = sagemaker.session.s3_input(valid_data, content_type='text/csv')\n",
    "\n",
    "data_channels = {'train': train_channel}\n",
    "\n",
    "xgb_model.fit(inputs=data_channels)\n"
   ]
  },
  {
   "cell_type": "markdown",
   "id": "3238105c",
   "metadata": {},
   "source": [
    "# DEPLOY MODEL"
   ]
  },
  {
   "cell_type": "code",
   "execution_count": 206,
   "id": "e7f57512",
   "metadata": {},
   "outputs": [
    {
     "name": "stderr",
     "output_type": "stream",
     "text": [
      "INFO:sagemaker:Creating model with name: xgboost-2024-10-20-15-46-18-288\n",
      "INFO:sagemaker:Creating endpoint-config with name xgboost-2024-10-20-15-46-18-288\n",
      "INFO:sagemaker:Creating endpoint with name xgboost-2024-10-20-15-46-18-288\n"
     ]
    },
    {
     "name": "stdout",
     "output_type": "stream",
     "text": [
      "------!"
     ]
    }
   ],
   "source": [
    "xgb_predictor = xgb_model.deploy(\n",
    "    initial_instance_count=1,\n",
    "    instance_type='ml.m4.xlarge'\n",
    ")"
   ]
  },
  {
   "cell_type": "markdown",
   "id": "251c361a",
   "metadata": {},
   "source": [
    "# VALIDATE MODEL"
   ]
  },
  {
   "cell_type": "code",
   "execution_count": 1,
   "id": "6de02449",
   "metadata": {},
   "outputs": [
    {
     "ename": "NameError",
     "evalue": "name 'pd' is not defined",
     "output_type": "error",
     "traceback": [
      "\u001b[0;31m---------------------------------------------------------------------------\u001b[0m",
      "\u001b[0;31mNameError\u001b[0m                                 Traceback (most recent call last)",
      "Cell \u001b[0;32mIn[1], line 5\u001b[0m\n\u001b[1;32m      2\u001b[0m \u001b[38;5;28;01mimport\u001b[39;00m \u001b[38;5;21;01mnumpy\u001b[39;00m \u001b[38;5;28;01mas\u001b[39;00m \u001b[38;5;21;01mnp\u001b[39;00m\n\u001b[1;32m      3\u001b[0m \u001b[38;5;28;01mfrom\u001b[39;00m \u001b[38;5;21;01msklearn\u001b[39;00m\u001b[38;5;21;01m.\u001b[39;00m\u001b[38;5;21;01mmetrics\u001b[39;00m \u001b[38;5;28;01mimport\u001b[39;00m accuracy_score\n\u001b[0;32m----> 5\u001b[0m data \u001b[38;5;241m=\u001b[39m \u001b[43mpd\u001b[49m\u001b[38;5;241m.\u001b[39mread_csv(\u001b[38;5;124m'\u001b[39m\u001b[38;5;124miris-data/valid-data.csv\u001b[39m\u001b[38;5;124m'\u001b[39m, header\u001b[38;5;241m=\u001b[39m\u001b[38;5;28;01mNone\u001b[39;00m)\n\u001b[1;32m      7\u001b[0m new_values \u001b[38;5;241m=\u001b[39m [\n\u001b[1;32m      8\u001b[0m     [\u001b[38;5;241m0\u001b[39m, \u001b[38;5;241m5.0\u001b[39m, \u001b[38;5;241m3.6\u001b[39m, \u001b[38;5;241m1.4\u001b[39m, \u001b[38;5;241m0.2\u001b[39m],  \u001b[38;5;66;03m# Iris-setosa\u001b[39;00m\n\u001b[1;32m      9\u001b[0m     [\u001b[38;5;241m1\u001b[39m, \u001b[38;5;241m6.0\u001b[39m, \u001b[38;5;241m2.9\u001b[39m, \u001b[38;5;241m4.5\u001b[39m, \u001b[38;5;241m1.5\u001b[39m],  \u001b[38;5;66;03m# Iris-versicolor\u001b[39;00m\n\u001b[0;32m   (...)\u001b[0m\n\u001b[1;32m     17\u001b[0m     [\u001b[38;5;241m2\u001b[39m, \u001b[38;5;241m6.4\u001b[39m, \u001b[38;5;241m2.7\u001b[39m, \u001b[38;5;241m5.3\u001b[39m, \u001b[38;5;241m1.9\u001b[39m]   \u001b[38;5;66;03m# Iris-virginica\u001b[39;00m\n\u001b[1;32m     18\u001b[0m ]\n\u001b[1;32m     20\u001b[0m new_rows \u001b[38;5;241m=\u001b[39m pd\u001b[38;5;241m.\u001b[39mDataFrame(new_values)\n",
      "\u001b[0;31mNameError\u001b[0m: name 'pd' is not defined"
     ]
    }
   ],
   "source": [
    "from io import StringIO\n",
    "import numpy as np\n",
    "from sklearn.metrics import accuracy_score\n",
    "\n",
    "data = pd.read_csv('iris-data/valid-data.csv', header=None)\n",
    "\n",
    "new_values = [\n",
    "    [0, 5.0, 3.6, 1.4, 0.2],  # Iris-setosa\n",
    "    [1, 6.0, 2.9, 4.5, 1.5],  # Iris-versicolor\n",
    "    [2, 6.5, 3.2, 5.1, 2.0],  # Iris-virginica\n",
    "    [2, 5.9, 3.0, 5.1, 1.8],  # Iris-virginica\n",
    "    [0, 5.1, 3.5, 1.4, 0.3],  # Iris-setosa\n",
    "    [1, 5.7, 2.8, 4.1, 1.3],  # Iris-versicolor\n",
    "    [1, 6.7, 3.1, 4.7, 1.5],  # Iris-versicolor\n",
    "    [2, 6.3, 3.3, 6.0, 2.5],  # Iris-virginica\n",
    "    [0, 4.9, 3.1, 1.5, 0.1],  # Iris-setosa\n",
    "    [2, 6.4, 2.7, 5.3, 1.9]   # Iris-virginica\n",
    "]\n",
    "\n",
    "new_rows = pd.DataFrame(new_values)\n",
    "#data = pd.concat([data, new_rows], ignore_index=True)\n",
    "\n",
    "X = data.drop(0, axis=1)\n",
    "y = data[0]\n",
    "#print(X)\n",
    "#print(y)\n",
    "\n",
    "X_csv = X.to_csv('iris-data/X-valid-data.csv', index=False, header=False)\n",
    "y_csv = y.to_csv('iris-data/y-valid-data.csv', index=False, header=False)\n",
    "\n",
    "# Use StringIO to convert the DataFrame to a CSV string in memory\n",
    "csv_buffer = StringIO()\n",
    "X.to_csv(csv_buffer, index=False, header=False)\n",
    "X_csv_bytes = csv_buffer.getvalue().encode('utf-8')\n",
    "\n",
    "y_test = np.array(y, dtype=float).astype(int)\n",
    "\n",
    "# Make predictions - set content type via request headers\n",
    "predictions = xgb_predictor.predict(X_csv_bytes, initial_args={'ContentType': 'text/csv'}).decode('utf-8').split(',')\n",
    "\n",
    "# Convert predictions to a numpy array\n",
    "y_pred = np.array(predictions, dtype=float).astype(int)\n",
    "\n",
    "print(\"TEST: \", y_test, len(y_test))\n",
    "print(\"PRED: \", y_pred, len(y_pred))\n",
    "\n",
    "accuracy = accuracy_score(y_test, y_pred)\n",
    "print(f\"Accuracy of model: {accuracy:.3f}\")\n"
   ]
  },
  {
   "cell_type": "code",
   "execution_count": 210,
   "id": "e9d40b68",
   "metadata": {},
   "outputs": [],
   "source": [
    "#xgb_predictor.delete_endpoint()"
   ]
  },
  {
   "cell_type": "code",
   "execution_count": null,
   "id": "b18f6ce4",
   "metadata": {},
   "outputs": [],
   "source": []
  },
  {
   "cell_type": "code",
   "execution_count": null,
   "id": "715798b1",
   "metadata": {},
   "outputs": [],
   "source": []
  }
 ],
 "metadata": {
  "kernelspec": {
   "display_name": "conda_python3",
   "language": "python",
   "name": "conda_python3"
  },
  "language_info": {
   "codemirror_mode": {
    "name": "ipython",
    "version": 3
   },
   "file_extension": ".py",
   "mimetype": "text/x-python",
   "name": "python",
   "nbconvert_exporter": "python",
   "pygments_lexer": "ipython3",
   "version": "3.10.14"
  }
 },
 "nbformat": 4,
 "nbformat_minor": 5
}
